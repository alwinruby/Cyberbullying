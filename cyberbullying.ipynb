{
 "cells": [
  {
   "cell_type": "code",
   "execution_count": 1,
   "metadata": {},
   "outputs": [
    {
     "name": "stdout",
     "output_type": "stream",
     "text": [
      "input/youtube_parsed_dataset.csv\n",
      "input/twitter_parsed_dataset.csv\n",
      "input/twitter_sexism_parsed_dataset.csv\n",
      "input/.DS_Store\n",
      "input/attack_parsed_dataset.csv\n",
      "input/twitter_racism_parsed_dataset.csv\n",
      "input/kaggle_parsed_dataset.csv\n",
      "input/toxicity_parsed_dataset.csv\n",
      "input/cyberbullying_tweets.csv\n",
      "input/aggression_parsed_dataset.csv\n"
     ]
    }
   ],
   "source": [
    "import os\n",
    "for dirname, _, filenames in os.walk('input'):\n",
    "    for filename in filenames:\n",
    "        print(os.path.join(dirname, filename))"
   ]
  },
  {
   "cell_type": "code",
   "execution_count": null,
   "metadata": {},
   "outputs": [],
   "source": []
  }
 ],
 "metadata": {
  "kernelspec": {
   "display_name": "Python 3",
   "language": "python",
   "name": "python3"
  },
  "language_info": {
   "codemirror_mode": {
    "name": "ipython",
    "version": 3
   },
   "file_extension": ".py",
   "mimetype": "text/x-python",
   "name": "python",
   "nbconvert_exporter": "python",
   "pygments_lexer": "ipython3",
   "version": "3.8.3"
  }
 },
 "nbformat": 4,
 "nbformat_minor": 4
}
